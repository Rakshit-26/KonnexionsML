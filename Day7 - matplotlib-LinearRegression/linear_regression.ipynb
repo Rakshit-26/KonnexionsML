{
  "nbformat": 4,
  "nbformat_minor": 0,
  "metadata": {
    "colab": {
      "name": "linear regression.ipynb",
      "provenance": []
    },
    "kernelspec": {
      "name": "python3",
      "display_name": "Python 3"
    },
    "language_info": {
      "name": "python"
    }
  },
  "cells": [
    {
      "cell_type": "code",
      "execution_count": 3,
      "metadata": {
        "id": "6MwABKn3dWSg"
      },
      "outputs": [],
      "source": [
        "import numpy as np\n",
        "import pandas as pd\n",
        "import matplotlib.pyplot as plt\n",
        "%matplotlib inline"
      ]
    },
    {
      "cell_type": "code",
      "source": [
        "from sklearn.linear_model import LinearRegression"
      ],
      "metadata": {
        "id": "Ahw_I4_Gn7u0"
      },
      "execution_count": 1,
      "outputs": []
    },
    {
      "cell_type": "code",
      "source": [
        "m = 50\n",
        "x1 = np.random.uniform(low=-10.0, high=10.0,size= m)\n",
        "noise = np.random.normal(loc=0.0,scale=5.0,size=m)\n",
        "print(x1,noise)\n",
        "\n",
        "y = 2*x1 + noise"
      ],
      "metadata": {
        "colab": {
          "base_uri": "https://localhost:8080/"
        },
        "id": "Xdf0SjIGuxZa",
        "outputId": "e6fa97aa-112d-4523-dc2b-3975c3122649"
      },
      "execution_count": 6,
      "outputs": [
        {
          "output_type": "stream",
          "name": "stdout",
          "text": [
            "[ 9.282477   -9.07108013  1.25029418  9.68259426 -7.65885108 -2.69803272\n",
            " -0.4189448  -7.68744518  3.51484353 -5.8476314  -6.22494124  1.56690584\n",
            "  8.87608367 -0.62117622  0.44192755 -0.8635242  -0.46991553  7.94680678\n",
            " -6.99918511 -5.98524848  0.10905315 -7.80362537  4.65618577  3.29973347\n",
            "  3.16738872  1.32066707  1.77764358 -5.47665304  7.95829353  4.83782453\n",
            "  6.46203244  4.82209568 -1.89004259 -6.61063195  3.66030007 -4.3572517\n",
            " -0.5875356  -2.82034341 -5.34429176  6.18859082 -4.06494893  8.71500536\n",
            "  7.63575086 -1.66966957 -6.93019735  1.77146741  3.72392263  3.8729733\n",
            "  8.53385013  4.91140027] [ -4.83929022  -0.13080864  -8.27047128  -0.40168664  -1.35177231\n",
            "  -0.46723419   4.55001538  -2.62894657   2.52087117   1.42939134\n",
            "  -0.81790665   0.31628981 -11.04327924  -3.89804051  -4.14039894\n",
            "  -1.06711907  -0.16041229   1.51704273  -3.81272313  -1.16054823\n",
            "   7.03568446  15.00548634   8.55420527  -4.01822678   3.80172415\n",
            "   2.11423798   3.15642521  -2.85574224 -11.81105987   8.16301393\n",
            "  -2.5408392    2.69791581  -4.67635175  -0.77195088  -1.78904803\n",
            "  -1.14715865   1.85242449   2.3971825   -3.73197471   0.43919234\n",
            "  -2.04455495   4.02505823   3.78490498  -8.32814979   2.78924356\n",
            "  -0.07952212  -3.94345154  -6.90019224  -3.56662269   3.29294336]\n"
          ]
        }
      ]
    },
    {
      "cell_type": "code",
      "source": [
        "plt.plot(x1,y,'o')"
      ],
      "metadata": {
        "colab": {
          "base_uri": "https://localhost:8080/",
          "height": 284
        },
        "id": "pcmBNAKFvRJi",
        "outputId": "faa15ee4-bcbb-416a-fc40-ead89d29e420"
      },
      "execution_count": 5,
      "outputs": [
        {
          "output_type": "execute_result",
          "data": {
            "text/plain": [
              "[<matplotlib.lines.Line2D at 0x7fd79255e950>]"
            ]
          },
          "metadata": {},
          "execution_count": 5
        },
        {
          "output_type": "display_data",
          "data": {
            "image/png": "[encoded data removed]",
            "text/plain": [
              "<Figure size 432x288 with 1 Axes>"
            ]
          },
          "metadata": {
            "needs_background": "light"
          }
        }
      ]
    },
    {
      "cell_type": "code",
      "source": [
        "features = x1.reshape(-1,1)#numpy to -1 = get the rows from original x1, while 1 = represent using column\n",
        "# print(features)\n",
        "\n",
        "target = y \n",
        "\n",
        "lr = LinearRegression() #instance - class LinearRegression's object which can be modified\n",
        "lr.fit(features,target) \n",
        "# parameters default - copy_X = true.... fit_intercept=True)\n",
        "#features - input, target - output"
      ],
      "metadata": {
        "colab": {
          "base_uri": "https://localhost:8080/"
        },
        "id": "4BrabjBrvdsy",
        "outputId": "71ddbe19-e30e-4c35-936a-2edc47cec65b"
      },
      "execution_count": 10,
      "outputs": [
        {
          "output_type": "execute_result",
          "data": {
            "text/plain": [
              "LinearRegression()"
            ]
          },
          "metadata": {},
          "execution_count": 10
        }
      ]
    },
    {
      "cell_type": "code",
      "source": [
        "print(lr.intercept_ ,lr.coef_ )\n",
        "# y = 2*x1 + noise \n",
        "# new_plot = [lr.intercept_ + lr.coef_[0]*x_chart]"
      ],
      "metadata": {
        "colab": {
          "base_uri": "https://localhost:8080/"
        },
        "id": "CqgEm2gcxIL8",
        "outputId": "3010c1c6-7fac-4bbe-df14-7ef2b31f971a"
      },
      "execution_count": 12,
      "outputs": [
        {
          "output_type": "stream",
          "name": "stdout",
          "text": [
            "-0.4083244968821583 [1.90905467]\n"
          ]
        }
      ]
    },
    {
      "cell_type": "code",
      "source": [
        "plt.plot(x1,y,'o')\n",
        "x_chart = np.linspace(x1.min(),x1.max(),num=100)\n",
        "\n",
        "plt.plot(x_chart,lr.intercept_ + lr.coef_[0]*x_chart)"
      ],
      "metadata": {
        "colab": {
          "base_uri": "https://localhost:8080/",
          "height": 284
        },
        "id": "-78Kqqiev6-S",
        "outputId": "7c8c194a-67d3-4407-e2e7-d2cca324632d"
      },
      "execution_count": 9,
      "outputs": [
        {
          "output_type": "execute_result",
          "data": {
            "text/plain": [
              "[<matplotlib.lines.Line2D at 0x7fd791f50190>]"
            ]
          },
          "metadata": {},
          "execution_count": 9
        },
        {
          "output_type": "display_data",
          "data": {
            "image/png": "[encoded data removed]",
            "text/plain": [
              "<Figure size 432x288 with 1 Axes>"
            ]
          },
          "metadata": {
            "needs_background": "light"
          }
        }
      ]
    }
  ]
}